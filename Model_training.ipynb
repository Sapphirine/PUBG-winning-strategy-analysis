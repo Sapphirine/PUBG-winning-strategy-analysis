{
 "cells": [
  {
   "cell_type": "code",
   "execution_count": 29,
   "metadata": {
    "scrolled": true
   },
   "outputs": [
    {
     "name": "stdout",
     "output_type": "stream",
     "text": [
      "['data_clean(2).csv', 'data_clean(re).csv', 'data_clean.csv', 'subjects_data.csv', 'dbworld_bodies.mat', '.ipynb_checkpoints', 'r2_Finetune_train.csv', 'Finetune_train.csv', 'Finetune_test.csv', 'train_V2.csv', 'n_estimators5.csv', 'r2_Finetune_test.csv', 'dbworld_subjects.mat']\n"
     ]
    }
   ],
   "source": [
    "import numpy as np\n",
    "import pandas as pd\n",
    "\n",
    "import warnings\n",
    "warnings.simplefilter('ignore')\n",
    "\n",
    "from sklearn.ensemble import RandomForestRegressor\n",
    "\n",
    "import os\n",
    "print(os.listdir(\"../Final/dataset\"))"
   ]
  },
  {
   "cell_type": "markdown",
   "metadata": {},
   "source": [
    "### Memorry Saving"
   ]
  },
  {
   "cell_type": "code",
   "execution_count": 2,
   "metadata": {},
   "outputs": [],
   "source": [
    "#reference:https://www.kaggle.com/gemartin/load-data-reduce-memory-usage\n",
    "def reduce_mem_usage(df):\n",
    "    \"\"\" iterate through all the columns of a dataframe and modify the data type\n",
    "        to reduce memory usage.        \n",
    "    \"\"\"\n",
    "\n",
    "    for col in df.columns:\n",
    "        col_type = df[col].dtype\n",
    "        \n",
    "        if col_type != object:\n",
    "            c_min = df[col].min()\n",
    "            c_max = df[col].max()\n",
    "            if str(col_type)[:3] == 'int':\n",
    "                if c_min > np.iinfo(np.int8).min and c_max < np.iinfo(np.int8).max:\n",
    "                    df[col] = df[col].astype(np.int8)\n",
    "                elif c_min > np.iinfo(np.int16).min and c_max < np.iinfo(np.int16).max:\n",
    "                    df[col] = df[col].astype(np.int16)\n",
    "                elif c_min > np.iinfo(np.int32).min and c_max < np.iinfo(np.int32).max:\n",
    "                    df[col] = df[col].astype(np.int32)\n",
    "                elif c_min > np.iinfo(np.int64).min and c_max < np.iinfo(np.int64).max:\n",
    "                    df[col] = df[col].astype(np.int64)  \n",
    "            else:\n",
    "                if c_min > np.finfo(np.float16).min and c_max < np.finfo(np.float16).max:\n",
    "                    df[col] = df[col].astype(np.float16)\n",
    "                elif c_min > np.finfo(np.float32).min and c_max < np.finfo(np.float32).max:\n",
    "                    df[col] = df[col].astype(np.float32)\n",
    "                else:\n",
    "                    df[col] = df[col].astype(np.float64)\n",
    "    return df"
   ]
  },
  {
   "cell_type": "markdown",
   "metadata": {},
   "source": [
    "### Load Data"
   ]
  },
  {
   "cell_type": "code",
   "execution_count": 3,
   "metadata": {},
   "outputs": [
    {
     "data": {
      "text/plain": [
       "(4403464, 34)"
      ]
     },
     "execution_count": 3,
     "metadata": {},
     "output_type": "execute_result"
    }
   ],
   "source": [
    "df_multi = pd.read_csv('../Final/dataset/data_clean(2).csv', index_col='Id')\n",
    "df_multi.shape"
   ]
  },
  {
   "cell_type": "code",
   "execution_count": 4,
   "metadata": {},
   "outputs": [],
   "source": [
    "df_multi = df_multi.loc[df_multi['matchType'].isin(['solo','solo-fpp','duo','duo-fpp','squad','squad-fpp'])]"
   ]
  },
  {
   "cell_type": "markdown",
   "metadata": {},
   "source": [
    "### Drop features with low correlation"
   ]
  },
  {
   "cell_type": "code",
   "execution_count": 5,
   "metadata": {},
   "outputs": [],
   "source": [
    "df_multi.drop(['kills','damageDealt','killPoints','matchDuration','maxPlace','numGroups','rankPoints','roadKills',\\\n",
    "              'teamKills','winPoints'], axis=1, inplace=True)"
   ]
  },
  {
   "cell_type": "code",
   "execution_count": 10,
   "metadata": {},
   "outputs": [],
   "source": [
    "df_multi.drop('abnormal_numGroups',axis=1, inplace=True)"
   ]
  },
  {
   "cell_type": "code",
   "execution_count": 11,
   "metadata": {},
   "outputs": [
    {
     "data": {
      "text/html": [
       "<div>\n",
       "<style scoped>\n",
       "    .dataframe tbody tr th:only-of-type {\n",
       "        vertical-align: middle;\n",
       "    }\n",
       "\n",
       "    .dataframe tbody tr th {\n",
       "        vertical-align: top;\n",
       "    }\n",
       "\n",
       "    .dataframe thead th {\n",
       "        text-align: right;\n",
       "    }\n",
       "</style>\n",
       "<table border=\"1\" class=\"dataframe\">\n",
       "  <thead>\n",
       "    <tr style=\"text-align: right;\">\n",
       "      <th>Id</th>\n",
       "      <th>7f96b2f878858a</th>\n",
       "      <th>eef90569b9d03c</th>\n",
       "      <th>1eaf90ac73de72</th>\n",
       "      <th>4616d365dd2853</th>\n",
       "      <th>315c96c26c9aac</th>\n",
       "    </tr>\n",
       "  </thead>\n",
       "  <tbody>\n",
       "    <tr>\n",
       "      <th>Unnamed: 0</th>\n",
       "      <td>0</td>\n",
       "      <td>1</td>\n",
       "      <td>2</td>\n",
       "      <td>3</td>\n",
       "      <td>4</td>\n",
       "    </tr>\n",
       "    <tr>\n",
       "      <th>groupId</th>\n",
       "      <td>4d4b580de459be</td>\n",
       "      <td>684d5656442f9e</td>\n",
       "      <td>6a4a42c3245a74</td>\n",
       "      <td>a930a9c79cd721</td>\n",
       "      <td>de04010b3458dd</td>\n",
       "    </tr>\n",
       "    <tr>\n",
       "      <th>matchId</th>\n",
       "      <td>a10357fd1a4a91</td>\n",
       "      <td>aeb375fc57110c</td>\n",
       "      <td>110163d8bb94ae</td>\n",
       "      <td>f1f1f4ef412d7e</td>\n",
       "      <td>6dc8ff871e21e6</td>\n",
       "    </tr>\n",
       "    <tr>\n",
       "      <th>assists</th>\n",
       "      <td>0</td>\n",
       "      <td>0</td>\n",
       "      <td>1</td>\n",
       "      <td>0</td>\n",
       "      <td>0</td>\n",
       "    </tr>\n",
       "    <tr>\n",
       "      <th>boosts</th>\n",
       "      <td>0</td>\n",
       "      <td>0</td>\n",
       "      <td>0</td>\n",
       "      <td>0</td>\n",
       "      <td>0</td>\n",
       "    </tr>\n",
       "    <tr>\n",
       "      <th>DBNOs</th>\n",
       "      <td>0</td>\n",
       "      <td>0</td>\n",
       "      <td>0</td>\n",
       "      <td>0</td>\n",
       "      <td>0</td>\n",
       "    </tr>\n",
       "    <tr>\n",
       "      <th>headshotKills</th>\n",
       "      <td>0</td>\n",
       "      <td>0</td>\n",
       "      <td>0</td>\n",
       "      <td>0</td>\n",
       "      <td>0</td>\n",
       "    </tr>\n",
       "    <tr>\n",
       "      <th>heals</th>\n",
       "      <td>0</td>\n",
       "      <td>0</td>\n",
       "      <td>0</td>\n",
       "      <td>0</td>\n",
       "      <td>0</td>\n",
       "    </tr>\n",
       "    <tr>\n",
       "      <th>killPlace</th>\n",
       "      <td>60</td>\n",
       "      <td>57</td>\n",
       "      <td>47</td>\n",
       "      <td>75</td>\n",
       "      <td>45</td>\n",
       "    </tr>\n",
       "    <tr>\n",
       "      <th>killStreaks</th>\n",
       "      <td>0</td>\n",
       "      <td>0</td>\n",
       "      <td>0</td>\n",
       "      <td>0</td>\n",
       "      <td>1</td>\n",
       "    </tr>\n",
       "    <tr>\n",
       "      <th>longestKill</th>\n",
       "      <td>0</td>\n",
       "      <td>0</td>\n",
       "      <td>0</td>\n",
       "      <td>0</td>\n",
       "      <td>58.5312</td>\n",
       "    </tr>\n",
       "    <tr>\n",
       "      <th>matchType</th>\n",
       "      <td>squad-fpp</td>\n",
       "      <td>squad-fpp</td>\n",
       "      <td>duo</td>\n",
       "      <td>squad-fpp</td>\n",
       "      <td>solo-fpp</td>\n",
       "    </tr>\n",
       "    <tr>\n",
       "      <th>revives</th>\n",
       "      <td>0</td>\n",
       "      <td>0</td>\n",
       "      <td>0</td>\n",
       "      <td>0</td>\n",
       "      <td>0</td>\n",
       "    </tr>\n",
       "    <tr>\n",
       "      <th>rideDistance</th>\n",
       "      <td>0</td>\n",
       "      <td>0.00450134</td>\n",
       "      <td>0</td>\n",
       "      <td>0</td>\n",
       "      <td>0</td>\n",
       "    </tr>\n",
       "    <tr>\n",
       "      <th>swimDistance</th>\n",
       "      <td>0</td>\n",
       "      <td>11.0391</td>\n",
       "      <td>0</td>\n",
       "      <td>0</td>\n",
       "      <td>0</td>\n",
       "    </tr>\n",
       "    <tr>\n",
       "      <th>vehicleDestroys</th>\n",
       "      <td>0</td>\n",
       "      <td>0</td>\n",
       "      <td>0</td>\n",
       "      <td>0</td>\n",
       "      <td>0</td>\n",
       "    </tr>\n",
       "    <tr>\n",
       "      <th>walkDistance</th>\n",
       "      <td>244.75</td>\n",
       "      <td>1434</td>\n",
       "      <td>161.75</td>\n",
       "      <td>202.75</td>\n",
       "      <td>49.75</td>\n",
       "    </tr>\n",
       "    <tr>\n",
       "      <th>weaponsAcquired</th>\n",
       "      <td>1</td>\n",
       "      <td>5</td>\n",
       "      <td>2</td>\n",
       "      <td>3</td>\n",
       "      <td>2</td>\n",
       "    </tr>\n",
       "    <tr>\n",
       "      <th>winPlacePerc</th>\n",
       "      <td>0.444336</td>\n",
       "      <td>0.640137</td>\n",
       "      <td>0.775391</td>\n",
       "      <td>0.166748</td>\n",
       "      <td>0.1875</td>\n",
       "    </tr>\n",
       "    <tr>\n",
       "      <th>totalDistance</th>\n",
       "      <td>244.75</td>\n",
       "      <td>1445</td>\n",
       "      <td>161.75</td>\n",
       "      <td>202.75</td>\n",
       "      <td>49.75</td>\n",
       "    </tr>\n",
       "    <tr>\n",
       "      <th>playersJoined</th>\n",
       "      <td>96</td>\n",
       "      <td>91</td>\n",
       "      <td>98</td>\n",
       "      <td>91</td>\n",
       "      <td>97</td>\n",
       "    </tr>\n",
       "    <tr>\n",
       "      <th>killsNorm</th>\n",
       "      <td>0</td>\n",
       "      <td>0</td>\n",
       "      <td>0</td>\n",
       "      <td>0</td>\n",
       "      <td>1.03027</td>\n",
       "    </tr>\n",
       "    <tr>\n",
       "      <th>damageDealtNorm</th>\n",
       "      <td>0</td>\n",
       "      <td>99.75</td>\n",
       "      <td>69.375</td>\n",
       "      <td>35.875</td>\n",
       "      <td>103</td>\n",
       "    </tr>\n",
       "  </tbody>\n",
       "</table>\n",
       "</div>"
      ],
      "text/plain": [
       "Id               7f96b2f878858a  eef90569b9d03c  1eaf90ac73de72  \\\n",
       "Unnamed: 0                    0               1               2   \n",
       "groupId          4d4b580de459be  684d5656442f9e  6a4a42c3245a74   \n",
       "matchId          a10357fd1a4a91  aeb375fc57110c  110163d8bb94ae   \n",
       "assists                       0               0               1   \n",
       "boosts                        0               0               0   \n",
       "DBNOs                         0               0               0   \n",
       "headshotKills                 0               0               0   \n",
       "heals                         0               0               0   \n",
       "killPlace                    60              57              47   \n",
       "killStreaks                   0               0               0   \n",
       "longestKill                   0               0               0   \n",
       "matchType             squad-fpp       squad-fpp             duo   \n",
       "revives                       0               0               0   \n",
       "rideDistance                  0      0.00450134               0   \n",
       "swimDistance                  0         11.0391               0   \n",
       "vehicleDestroys               0               0               0   \n",
       "walkDistance             244.75            1434          161.75   \n",
       "weaponsAcquired               1               5               2   \n",
       "winPlacePerc           0.444336        0.640137        0.775391   \n",
       "totalDistance            244.75            1445          161.75   \n",
       "playersJoined                96              91              98   \n",
       "killsNorm                     0               0               0   \n",
       "damageDealtNorm               0           99.75          69.375   \n",
       "\n",
       "Id               4616d365dd2853  315c96c26c9aac  \n",
       "Unnamed: 0                    3               4  \n",
       "groupId          a930a9c79cd721  de04010b3458dd  \n",
       "matchId          f1f1f4ef412d7e  6dc8ff871e21e6  \n",
       "assists                       0               0  \n",
       "boosts                        0               0  \n",
       "DBNOs                         0               0  \n",
       "headshotKills                 0               0  \n",
       "heals                         0               0  \n",
       "killPlace                    75              45  \n",
       "killStreaks                   0               1  \n",
       "longestKill                   0         58.5312  \n",
       "matchType             squad-fpp        solo-fpp  \n",
       "revives                       0               0  \n",
       "rideDistance                  0               0  \n",
       "swimDistance                  0               0  \n",
       "vehicleDestroys               0               0  \n",
       "walkDistance             202.75           49.75  \n",
       "weaponsAcquired               3               2  \n",
       "winPlacePerc           0.166748          0.1875  \n",
       "totalDistance            202.75           49.75  \n",
       "playersJoined                91              97  \n",
       "killsNorm                     0         1.03027  \n",
       "damageDealtNorm          35.875             103  "
      ]
     },
     "execution_count": 11,
     "metadata": {},
     "output_type": "execute_result"
    }
   ],
   "source": [
    "df_multi.head().T"
   ]
  },
  {
   "cell_type": "code",
   "execution_count": 12,
   "metadata": {},
   "outputs": [],
   "source": [
    "df_multi = reduce_mem_usage(df_multi)"
   ]
  },
  {
   "cell_type": "code",
   "execution_count": 8,
   "metadata": {},
   "outputs": [],
   "source": [
    "df_multi = df_multi.dropna()"
   ]
  },
  {
   "cell_type": "code",
   "execution_count": 13,
   "metadata": {},
   "outputs": [
    {
     "data": {
      "text/plain": [
       "(4403464, 23)"
      ]
     },
     "execution_count": 13,
     "metadata": {},
     "output_type": "execute_result"
    }
   ],
   "source": [
    "df_multi.shape"
   ]
  },
  {
   "cell_type": "markdown",
   "metadata": {},
   "source": [
    "### Split data into train and test"
   ]
  },
  {
   "cell_type": "code",
   "execution_count": 14,
   "metadata": {},
   "outputs": [
    {
     "name": "stdout",
     "output_type": "stream",
     "text": [
      "train_multi: (3522771, 23)\n",
      "test_multi: (880693, 23)\n"
     ]
    }
   ],
   "source": [
    "train_multi = df_multi.sample(frac=0.8,random_state=200,axis = 0)\n",
    "test_multi = df_multi.drop(train_multi.index)\n",
    "\n",
    "print (\"train_multi: \" + format(train_multi.shape))\n",
    "print (\"test_multi: \" + format(test_multi.shape))"
   ]
  },
  {
   "cell_type": "markdown",
   "metadata": {},
   "source": [
    "### Feature Engineering"
   ]
  },
  {
   "cell_type": "code",
   "execution_count": 19,
   "metadata": {},
   "outputs": [],
   "source": [
    "def feature_engineering(df, is_train=True):\n",
    "    features = list(df.columns)\n",
    "    features.remove(\"matchId\")\n",
    "    features.remove(\"groupId\")\n",
    "    features.remove(\"matchType\")\n",
    "    features.remove('winPlacePerc')\n",
    "    \n",
    "    y = None\n",
    "    if is_train:\n",
    "        y = df.groupby(['matchId','groupId'])['winPlacePerc'].agg('mean')\n",
    "    else:\n",
    "        y = df['winPlacePerc']\n",
    "    \n",
    "    # max by match and group\n",
    "    agg = df.groupby(['matchId','groupId'])[features].agg('max')\n",
    "    if is_train:\n",
    "        df_out = agg.reset_index()[['matchId','groupId']]\n",
    "    else:\n",
    "        df_out = df[['matchId','groupId']]\n",
    "    \n",
    "    df_out = df_out.merge(agg.reset_index(), suffixes=[\"\", \"\"], how='left', on=['matchId', 'groupId'])\n",
    "    \n",
    "    # drop match id and group id\n",
    "    df_out.drop([\"matchId\", \"groupId\"], axis=1, inplace=True)\n",
    "    \n",
    "    del agg\n",
    "    \n",
    "    return df_out, y\n",
    "    \n",
    "    "
   ]
  },
  {
   "cell_type": "code",
   "execution_count": 20,
   "metadata": {},
   "outputs": [],
   "source": [
    "train_x, train_y = feature_engineering(train_multi, is_train=True)"
   ]
  },
  {
   "cell_type": "code",
   "execution_count": 21,
   "metadata": {},
   "outputs": [
    {
     "data": {
      "text/plain": [
       "(1826370, 19)"
      ]
     },
     "execution_count": 21,
     "metadata": {},
     "output_type": "execute_result"
    }
   ],
   "source": [
    "train_x.shape"
   ]
  },
  {
   "cell_type": "code",
   "execution_count": null,
   "metadata": {},
   "outputs": [],
   "source": [
    "del train_multi"
   ]
  },
  {
   "cell_type": "code",
   "execution_count": 22,
   "metadata": {},
   "outputs": [],
   "source": [
    "test_x, test_y = feature_engineering(test_multi, is_train = False)"
   ]
  },
  {
   "cell_type": "code",
   "execution_count": 23,
   "metadata": {},
   "outputs": [
    {
     "data": {
      "text/plain": [
       "(880693, 19)"
      ]
     },
     "execution_count": 23,
     "metadata": {},
     "output_type": "execute_result"
    }
   ],
   "source": [
    "test_x.shape"
   ]
  },
  {
   "cell_type": "code",
   "execution_count": null,
   "metadata": {},
   "outputs": [],
   "source": [
    "test_y.shape"
   ]
  },
  {
   "cell_type": "code",
   "execution_count": null,
   "metadata": {},
   "outputs": [],
   "source": [
    "del test_multi"
   ]
  },
  {
   "cell_type": "markdown",
   "metadata": {},
   "source": [
    "### RandomForest Baseline"
   ]
  },
  {
   "cell_type": "code",
   "execution_count": 27,
   "metadata": {},
   "outputs": [],
   "source": [
    "rf = RandomForestRegressor(n_estimators=100, max_depth=20, criterion='mse', n_jobs=6)\n",
    "rf.fit(train_x, train_y)\n",
    "rf_y_pred = rf.predict(test_x)"
   ]
  },
  {
   "cell_type": "code",
   "execution_count": 28,
   "metadata": {},
   "outputs": [
    {
     "name": "stdout",
     "output_type": "stream",
     "text": [
      "mse: 0.006932162039195814\n",
      "rmse: 0.08325960628777807\n",
      "mae: 0.059533268830981485\n",
      "median abosolute error: 0.042951599654951766\n",
      "r2: 0.9262997262756647\n"
     ]
    }
   ],
   "source": [
    "mse = mean_squared_error(test_y, rf_y_pred)\n",
    "mae = mean_absolute_error(test_y, rf_y_pred)\n",
    "median_abosolute_error = median_absolute_error(test_y, rf_y_pred)\n",
    "r2 = r2_score(test_y, rf_y_pred)\n",
    "print(\"mse: \" + format(mse))\n",
    "print(\"rmse: \" + format(mse**0.5))\n",
    "print(\"mae: \" + format(mae))\n",
    "print(\"median abosolute error: \" + format(median_abosolute_error))\n",
    "print(\"r2: \" + format(r2))"
   ]
  },
  {
   "cell_type": "markdown",
   "metadata": {},
   "source": [
    "### Model Tuning"
   ]
  },
  {
   "cell_type": "code",
   "execution_count": 39,
   "metadata": {},
   "outputs": [],
   "source": [
    "prediction = {}\n",
    "prediction['mse'] = {}\n",
    "prediction['rmse'] = {}\n",
    "prediction['mae'] = {}\n",
    "prediction['median_ae'] = {}\n",
    "prediction['r2'] = {}\n",
    "\n",
    "ground= {}\n",
    "ground['mse'] = {}\n",
    "ground['rmse'] = {}\n",
    "ground['mae'] = {}\n",
    "ground['median_ae'] = {}\n",
    "ground['r2'] = {}"
   ]
  },
  {
   "cell_type": "markdown",
   "metadata": {},
   "source": [
    "#### Finding a reasonable n_estimators value"
   ]
  },
  {
   "cell_type": "code",
   "execution_count": null,
   "metadata": {},
   "outputs": [],
   "source": [
    "for i in range(30,100,10):\n",
    "    rf = RandomForestRegressor(n_estimators=i, max_depth=50, criterion='mse', n_jobs=6)\n",
    "    rf.fit(train_x, train_y)\n",
    "    rf_y_pred = rf.predict(train_x)\n",
    "    rf_y_pred_test = rf.predict(test_x)\n",
    "    mse = mean_squared_error(train_y, rf_y_pred)\n",
    "    rmse = mse**0.5\n",
    "    mae = mean_absolute_error(train_y, rf_y_pred)\n",
    "    median_abosolute_error = median_absolute_error(train_y, rf_y_pred)\n",
    "    r2 = r2_score(train_y, rf_y_pred)\n",
    "    ground['mse'][i] = mse\n",
    "    ground['rmse'][i] = rmse\n",
    "    ground['mae'][i] = mae\n",
    "    ground['median_ae'][i] = median_abosolute_error\n",
    "    ground['r2'][i] = r2\n",
    "    \n",
    "    mse = mean_squared_error(test_y, rf_y_pred_test)\n",
    "    rmse = mse**0.5\n",
    "    mae = mean_absolute_error(test_y, rf_y_pred_test)\n",
    "    median_abosolute_error = median_absolute_error(test_y, rf_y_pred_test)\n",
    "    r2 = r2_score(test_y, rf_y_pred_test)\n",
    "    prediction['mse'][i] = mse\n",
    "    prediction['rmse'][i] = rmse\n",
    "    prediction['mae'][i] = mae\n",
    "    prediction['median_ae'][i] = median_abosolute_error\n",
    "    prediction['r2'][i] = r2\n",
    "    \n",
    "    "
   ]
  },
  {
   "cell_type": "markdown",
   "metadata": {},
   "source": [
    "#### Finding the coarse range of optimal \"max_depth\""
   ]
  },
  {
   "cell_type": "code",
   "execution_count": null,
   "metadata": {},
   "outputs": [],
   "source": [
    "for i in range(10,100,20):\n",
    "    rf = RandomForestRegressor(n_estimators=30, max_depth=i, criterion='mse', n_jobs=6)\n",
    "    rf.fit(train_x, train_y)\n",
    "    rf_y_pred = rf.predict(train_x)\n",
    "    rf_y_pred_test = rf.predict(test_x)\n",
    "    mse = mean_squared_error(train_y, rf_y_pred)\n",
    "    rmse = mse**0.5\n",
    "    mae = mean_absolute_error(train_y, rf_y_pred)\n",
    "    median_abosolute_error = median_absolute_error(train_y, rf_y_pred)\n",
    "    r2 = r2_score(train_y, rf_y_pred)\n",
    "    ground['mse'][i] = mse\n",
    "    ground['rmse'][i] = rmse\n",
    "    ground['mae'][i] = mae\n",
    "    ground['median_ae'][i] = median_abosolute_error\n",
    "    ground['r2'][i] = r2\n",
    "    \n",
    "    mse = mean_squared_error(test_y, rf_y_pred_test)\n",
    "    rmse = mse**0.5\n",
    "    mae = mean_absolute_error(test_y, rf_y_pred_test)\n",
    "    median_abosolute_error = median_absolute_error(test_y, rf_y_pred_test)\n",
    "    r2 = r2_score(test_y, rf_y_pred_test)\n",
    "    prediction['mse'][i] = mse\n",
    "    prediction['rmse'][i] = rmse\n",
    "    prediction['mae'][i] = mae\n",
    "    prediction['median_ae'][i] = median_abosolute_error\n",
    "    prediction['r2'][i] = r2"
   ]
  },
  {
   "cell_type": "markdown",
   "metadata": {},
   "source": [
    "#### Finding the relatively precise optimal \"max_depth\""
   ]
  },
  {
   "cell_type": "code",
   "execution_count": null,
   "metadata": {},
   "outputs": [],
   "source": [
    "for i in range(15,65,5):\n",
    "    rf = RandomForestRegressor(n_estimators=90, max_depth=i, criterion='mse', n_jobs=6)\n",
    "    rf.fit(train_x, train_y)\n",
    "    rf_y_pred = rf.predict(train_x)\n",
    "    rf_y_pred_test = rf.predict(test_x)\n",
    "    mse = mean_squared_error(train_y, rf_y_pred)\n",
    "    rmse = mse**0.5\n",
    "    mae = mean_absolute_error(train_y, rf_y_pred)\n",
    "    median_abosolute_error = median_absolute_error(train_y, rf_y_pred)\n",
    "    r2 = r2_score(train_y, rf_y_pred)\n",
    "    ground['mse'][i] = mse\n",
    "    ground['rmse'][i] = rmse\n",
    "    ground['mae'][i] = mae\n",
    "    ground['median_ae'][i] = median_abosolute_error\n",
    "    ground['r2'][i] = r2\n",
    "    \n",
    "    mse = mean_squared_error(test_y, rf_y_pred_test)\n",
    "    rmse = mse**0.5\n",
    "    mae = mean_absolute_error(test_y, rf_y_pred_test)\n",
    "    median_abosolute_error = median_absolute_error(test_y, rf_y_pred_test)\n",
    "    r2 = r2_score(test_y, rf_y_pred_test)\n",
    "    prediction['mse'][i] = mse\n",
    "    prediction['rmse'][i] = rmse\n",
    "    prediction['mae'][i] = mae\n",
    "    prediction['median_ae'][i] = median_abosolute_error\n",
    "    prediction['r2'][i] = r2"
   ]
  },
  {
   "cell_type": "markdown",
   "metadata": {},
   "source": [
    "#### Finally, using the processed data and determined model parameters for final model traning (run the code in RandomForest Baseline)"
   ]
  },
  {
   "cell_type": "code",
   "execution_count": null,
   "metadata": {},
   "outputs": [],
   "source": []
  }
 ],
 "metadata": {
  "kernelspec": {
   "display_name": "Python 3",
   "language": "python",
   "name": "python3"
  }
 },
 "nbformat": 4,
 "nbformat_minor": 2
}
